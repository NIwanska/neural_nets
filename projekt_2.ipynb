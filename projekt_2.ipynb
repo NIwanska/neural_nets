{
 "cells": [
  {
   "cell_type": "code",
   "execution_count": 3,
   "metadata": {},
   "outputs": [],
   "source": [
    "import torch\n",
    "from torch import nn, optim\n",
    "import pandas as pd\n",
    "from sklearn.model_selection import train_test_split\n",
    "from torch.utils.data import DataLoader, TensorDataset\n",
    "import csv"
   ]
  },
  {
   "cell_type": "code",
   "execution_count": 4,
   "metadata": {},
   "outputs": [],
   "source": [
    "device = torch.device(\"cuda\")\n",
    "data = pd.read_csv('train_data.csv')\n",
    "data_dropped = data.drop(columns=['HallwayType','HeatingType','AptManageType','SubwayStation', 'TimeToBusStop', 'TimeToSubway'])\n",
    "pd_HallwayTypepd = pd.get_dummies(data['HallwayType'],  dtype=float)\n",
    "pd_HeatingType = pd.get_dummies(data['HeatingType'],  dtype=float)\n",
    "pd_AptManageType = pd.get_dummies(data['AptManageType'],  dtype=float)\n",
    "pd_SubwayStation = pd.get_dummies(data['SubwayStation'],  dtype=float)\n",
    "pd_TimeToSubway = pd.get_dummies(data['TimeToSubway'],  dtype=float)\n",
    "pd_TimeToBusStop = pd.get_dummies(data['TimeToBusStop'],  dtype=float)\n",
    "data_encoded = pd.concat([pd_HallwayTypepd,pd_HeatingType ,pd_AptManageType,pd_SubwayStation,pd_TimeToSubway,pd_TimeToBusStop , data_dropped], axis=1, join='outer')\n",
    "X = data_encoded.drop(columns=['SalePrice']).values\n",
    "Y = data_encoded['SalePrice'].values"
   ]
  },
  {
   "cell_type": "code",
   "execution_count": 5,
   "metadata": {},
   "outputs": [],
   "source": [
    "test_data = pd.read_csv('test_data.csv')\n",
    "test_data_dropped = test_data.drop(columns=['HallwayType','HeatingType','AptManageType','SubwayStation', 'TimeToBusStop', 'TimeToSubway'])\n",
    "pd_HallwayTypepd = pd.get_dummies(test_data['HallwayType'],  dtype=float)\n",
    "pd_HeatingType = pd.get_dummies(test_data['HeatingType'],  dtype=float)\n",
    "pd_AptManageType = pd.get_dummies(test_data['AptManageType'],  dtype=float)\n",
    "pd_SubwayStation = pd.get_dummies(test_data['SubwayStation'],  dtype=float)\n",
    "pd_TimeToSubway = pd.get_dummies(test_data['TimeToSubway'],  dtype=float)\n",
    "pd_TimeToBusStop = pd.get_dummies(test_data['TimeToBusStop'],  dtype=float)\n",
    "test_data_encoded = pd.concat([pd_HallwayTypepd,pd_HeatingType ,pd_AptManageType,pd_SubwayStation,pd_TimeToSubway,pd_TimeToBusStop , test_data_dropped], axis=1, join='outer')\n",
    "\n",
    "test_data = test_data_encoded.astype('float32')\n",
    "test_data = torch.from_numpy(test_data.values[:,:])"
   ]
  },
  {
   "cell_type": "code",
   "execution_count": 6,
   "metadata": {},
   "outputs": [],
   "source": [
    "X_train, X_test, y_train, y_test = train_test_split(X, Y, test_size=0.2, random_state=42)\n",
    "\n",
    "X_train = torch.tensor(X_train, dtype=torch.float32)\n",
    "y_train = torch.tensor(y_train, dtype=torch.float32)\n",
    "X_test = torch.tensor(X_test, dtype=torch.float32)\n",
    "y_test = torch.tensor(y_test, dtype=torch.float32)\n",
    "\n",
    "train_data = TensorDataset(X_train, y_train)\n",
    "train_loader = DataLoader(train_data, batch_size=64, shuffle=True)"
   ]
  }
 ],
 "metadata": {
  "kernelspec": {
   "display_name": "Python 3",
   "language": "python",
   "name": "python3"
  },
  "language_info": {
   "codemirror_mode": {
    "name": "ipython",
    "version": 3
   },
   "file_extension": ".py",
   "mimetype": "text/x-python",
   "name": "python",
   "nbconvert_exporter": "python",
   "pygments_lexer": "ipython3",
   "version": "3.10.12"
  }
 },
 "nbformat": 4,
 "nbformat_minor": 2
}
