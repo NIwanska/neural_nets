{
 "cells": [
  {
   "cell_type": "code",
   "execution_count": 1,
   "metadata": {},
   "outputs": [
    {
     "name": "stderr",
     "output_type": "stream",
     "text": [
      "/usr/lib/python3/dist-packages/scipy/__init__.py:146: UserWarning: A NumPy version >=1.17.3 and <1.25.0 is required for this version of SciPy (detected version 1.26.4\n",
      "  warnings.warn(f\"A NumPy version >={np_minversion} and <{np_maxversion}\"\n"
     ]
    }
   ],
   "source": [
    "import torch\n",
    "from torch import nn, optim\n",
    "import pandas as pd\n",
    "from sklearn.model_selection import train_test_split\n",
    "from torch.utils.data import DataLoader, TensorDataset\n",
    "import csv"
   ]
  },
  {
   "cell_type": "code",
   "execution_count": 4,
   "metadata": {},
   "outputs": [
    {
     "name": "stdout",
     "output_type": "stream",
     "text": [
      "[[ 0.  0.  1. ...  5.  6.  9.]\n",
      " [ 1.  0.  0. ...  3. 12.  4.]\n",
      " [ 1.  0.  0. ...  3. 12.  4.]\n",
      " ...\n",
      " [ 0.  0.  1. ... 10.  9. 10.]\n",
      " [ 1.  0.  0. ...  3.  7. 11.]\n",
      " [ 0.  0.  1. ... 10.  9. 10.]]\n",
      "[141592  51327  48672 ... 357522 312389 393805]\n",
      "(4124, 27)\n",
      "(4124,)\n"
     ]
    },
    {
     "name": "stderr",
     "output_type": "stream",
     "text": [
      "/tmp/ipykernel_7367/2520507316.py:7: FutureWarning: Downcasting behavior in `replace` is deprecated and will be removed in a future version. To retain the old behavior, explicitly call `result.infer_objects(copy=False)`. To opt-in to the future behavior, set `pd.set_option('future.no_silent_downcasting', True)`\n",
      "  data['TimeToSubway'] = data['TimeToSubway'].replace(mapping)\n",
      "/tmp/ipykernel_7367/2520507316.py:8: FutureWarning: Downcasting behavior in `replace` is deprecated and will be removed in a future version. To retain the old behavior, explicitly call `result.infer_objects(copy=False)`. To opt-in to the future behavior, set `pd.set_option('future.no_silent_downcasting', True)`\n",
      "  data['TimeToBusStop'] = data['TimeToBusStop'].replace(mapping)\n"
     ]
    }
   ],
   "source": [
    "device = torch.device(\"cuda\")\n",
    "data = pd.read_csv('train_data.csv')\n",
    "\n",
    "# Mapowanie wartości\n",
    "mapping = {'0-5min': 0.0, '0~5min': 0.0, '5min~10min' : 1.0, '10min~15min' : 2.0,  '15min~20min' : 3.0, 'no_bus_stop_nearby' : 4.0}\n",
    "\n",
    "data['TimeToSubway'] = data['TimeToSubway'].replace(mapping)\n",
    "data['TimeToBusStop'] = data['TimeToBusStop'].replace(mapping)\n",
    "\n",
    "# one hot encoding\n",
    "data_dropped = data.drop(columns=['HallwayType','HeatingType','AptManageType','SubwayStation'])\n",
    "\n",
    "pd_HallwayTypepd = pd.get_dummies(data['HallwayType'],  dtype=float)\n",
    "pd_HeatingType = pd.get_dummies(data['HeatingType'],  dtype=float)\n",
    "pd_AptManageType = pd.get_dummies(data['AptManageType'],  dtype=float)\n",
    "pd_SubwayStation = pd.get_dummies(data['SubwayStation'],  dtype=float)\n",
    "\n",
    "\n",
    "data_encoded = pd.concat([pd_HallwayTypepd,pd_HeatingType ,pd_AptManageType,pd_SubwayStation, data_dropped], axis=1, join='outer')\n",
    "X = data_encoded.drop(columns=['SalePrice']).values\n",
    "Y = data_encoded['SalePrice'].values\n",
    "print(X)\n",
    "print(Y)\n",
    "print(X.shape)\n",
    "print(Y.shape)"
   ]
  },
  {
   "cell_type": "code",
   "execution_count": 52,
   "metadata": {},
   "outputs": [
    {
     "name": "stdout",
     "output_type": "stream",
     "text": [
      "tensor([[ 0.,  1.,  0.,  ...,  4., 14., 17.],\n",
      "        [ 0.,  0.,  1.,  ...,  9., 14., 17.],\n",
      "        [ 0.,  0.,  1.,  ...,  5.,  9.,  5.],\n",
      "        ...,\n",
      "        [ 0.,  1.,  0.,  ...,  4., 14., 17.],\n",
      "        [ 0.,  0.,  1.,  ...,  8.,  7.,  9.],\n",
      "        [ 0.,  1.,  0.,  ...,  4., 14., 17.]])\n",
      "<torch.utils.data.dataloader.DataLoader object at 0x76503b029900>\n"
     ]
    },
    {
     "name": "stderr",
     "output_type": "stream",
     "text": [
      "/tmp/ipykernel_7367/4171704164.py:5: FutureWarning: Downcasting behavior in `replace` is deprecated and will be removed in a future version. To retain the old behavior, explicitly call `result.infer_objects(copy=False)`. To opt-in to the future behavior, set `pd.set_option('future.no_silent_downcasting', True)`\n",
      "  test['TimeToSubway'] = test['TimeToSubway'].replace(mapping)\n",
      "/tmp/ipykernel_7367/4171704164.py:6: FutureWarning: Downcasting behavior in `replace` is deprecated and will be removed in a future version. To retain the old behavior, explicitly call `result.infer_objects(copy=False)`. To opt-in to the future behavior, set `pd.set_option('future.no_silent_downcasting', True)`\n",
      "  test['TimeToBusStop'] = test['TimeToBusStop'].replace(mapping)\n"
     ]
    }
   ],
   "source": [
    "test = pd.read_csv('test_data.csv')\n",
    "\n",
    "# Mapowanie wartości\n",
    "\n",
    "test['TimeToSubway'] = test['TimeToSubway'].replace(mapping)\n",
    "test['TimeToBusStop'] = test['TimeToBusStop'].replace(mapping)\n",
    "\n",
    "# one hot encoding\n",
    "test_dropped = test.drop(columns=['HallwayType','HeatingType','AptManageType','SubwayStation'])\n",
    "pd_HallwayTypepd = pd.get_dummies(test['HallwayType'],  dtype=float)\n",
    "pd_HeatingType = pd.get_dummies(test['HeatingType'],  dtype=float)\n",
    "pd_AptManageType = pd.get_dummies(test['AptManageType'],  dtype=float)\n",
    "pd_SubwayStation = pd.get_dummies(test['SubwayStation'],  dtype=float)\n",
    "test_encoded = pd.concat([pd_HallwayTypepd,pd_HeatingType ,pd_AptManageType,pd_SubwayStation, test_dropped], axis=1, join='outer')\n",
    "\n",
    "test = test_encoded.astype('float32')\n",
    "test = torch.from_numpy(test.values[:,:])\n",
    "print(test)\n",
    "\n",
    "test_loader_test = DataLoader(test, batch_size=64, shuffle=False)\n",
    "print(test_loader_test)\n"
   ]
  },
  {
   "cell_type": "code",
   "execution_count": 6,
   "metadata": {},
   "outputs": [
    {
     "name": "stdout",
     "output_type": "stream",
     "text": [
      "tensor([[0., 1., 0.],\n",
      "        [0., 1., 0.],\n",
      "        [0., 1., 0.],\n",
      "        ...,\n",
      "        [0., 1., 0.],\n",
      "        [0., 0., 1.],\n",
      "        [1., 0., 0.]])\n",
      "tensor([2., 1., 2., 2., 2., 2., 1., 0., 1., 1., 1., 2., 0., 2., 1., 1., 2., 1.,\n",
      "        1., 1., 1., 1., 0., 1., 1., 2., 0., 1., 0., 1., 1., 1., 2., 2., 1., 1.,\n",
      "        1., 1., 0., 1., 1., 1., 2., 1., 1., 1., 1., 1., 1., 0., 1., 1., 1., 2.,\n",
      "        1., 2., 0., 1., 1., 1., 1., 1., 1., 1., 1., 0., 1., 1., 2., 1., 1., 1.,\n",
      "        1., 1., 2., 0., 2., 1., 1., 1., 1., 1., 1., 1., 1., 1., 1., 1., 0., 1.,\n",
      "        1., 1., 1., 1., 1., 2., 2., 0., 1., 0., 1., 1., 1., 1., 1., 1., 1., 2.,\n",
      "        0., 1., 0., 1., 2., 1., 1., 1., 1., 1., 0., 1., 1., 1., 0., 2., 1., 2.,\n",
      "        0., 0., 1., 1., 1., 1., 1., 1., 0., 1., 1., 1., 2., 2., 1., 1., 1., 0.,\n",
      "        1., 0., 1., 0., 0., 1., 0., 1., 2., 1., 1., 1., 1., 1., 1., 1., 0., 1.,\n",
      "        1., 1., 1., 1., 0., 2., 0., 1., 1., 2., 1., 2., 1., 0., 1., 1., 1., 1.,\n",
      "        2., 1., 1., 2., 1., 1., 0., 1., 0., 0., 1., 1., 1., 1., 1., 1., 1., 1.,\n",
      "        1., 0., 1., 0., 1., 1., 2., 1., 1., 1., 1., 1., 1., 1., 2., 1., 1., 1.,\n",
      "        2., 1., 1., 1., 1., 1., 1., 1., 1., 1., 1., 2., 1., 0., 2., 1., 1., 1.,\n",
      "        1., 1., 1., 1., 1., 1., 0., 1., 1., 0., 1., 1., 0., 2., 1., 1., 1., 2.,\n",
      "        1., 1., 1., 2., 2., 1., 1., 1., 2., 1., 1., 1., 2., 1., 0., 1., 1., 1.,\n",
      "        1., 1., 1., 1., 1., 1., 0., 1., 2., 1., 2., 2., 1., 1., 1., 1., 1., 1.,\n",
      "        1., 1., 2., 2., 1., 2., 1., 1., 1., 1., 0., 1., 2., 1., 1., 1., 2., 1.,\n",
      "        1., 1., 1., 1., 1., 1., 0., 1., 1., 2., 2., 1., 1., 1., 1., 1., 1., 1.,\n",
      "        1., 1., 2., 1., 1., 1., 1., 1., 0., 1., 1., 2., 1., 1., 1., 1., 1., 0.,\n",
      "        1., 1., 1., 1., 1., 1., 1., 1., 1., 0., 1., 1., 0., 0., 1., 1., 0., 1.,\n",
      "        1., 1., 2., 1., 1., 1., 0., 1., 1., 1., 1., 1., 0., 1., 0., 1., 1., 1.,\n",
      "        1., 1., 1., 0., 1., 1., 1., 0., 0., 0., 0., 1., 1., 1., 1., 1., 1., 2.,\n",
      "        1., 1., 1., 0., 2., 0., 1., 1., 1., 1., 1., 1., 1., 0., 1., 1., 1., 0.,\n",
      "        1., 2., 2., 1., 1., 0., 1., 1., 2., 1., 1., 0., 1., 1., 1., 1., 1., 2.,\n",
      "        2., 1., 1., 1., 1., 1., 1., 1., 2., 1., 0., 1., 0., 2., 1., 2., 1., 0.,\n",
      "        1., 0., 1., 1., 0., 1., 1., 2., 1., 2., 0., 1., 0., 1., 1., 1., 0., 1.,\n",
      "        0., 0., 2., 2., 1., 1., 0., 1., 0., 1., 1., 1., 1., 1., 1., 1., 1., 1.,\n",
      "        1., 0., 0., 1., 1., 1., 1., 1., 0., 1., 1., 2., 0., 1., 0., 1., 2., 1.,\n",
      "        1., 1., 2., 1., 2., 1., 0., 1., 2., 1., 1., 1., 2., 1., 1., 1., 1., 1.,\n",
      "        0., 1., 1., 1., 2., 1., 1., 1., 1., 0., 0., 1., 1., 0., 1., 1., 1., 1.,\n",
      "        2., 0., 1., 1., 0., 2., 1., 1., 2., 1., 1., 2., 1., 1., 1., 1., 0., 1.,\n",
      "        1., 1., 1., 1., 2., 1., 1., 2., 1., 2., 1., 1., 1., 0., 1., 1., 1., 1.,\n",
      "        0., 1., 1., 0., 1., 1., 1., 0., 1., 1., 1., 2., 1., 1., 1., 1., 1., 1.,\n",
      "        1., 2., 1., 1., 0., 2., 1., 1., 1., 1., 1., 0., 0., 1., 1., 1., 2., 1.,\n",
      "        0., 1., 2., 1., 1., 1., 1., 1., 1., 1., 1., 0., 1., 0., 1., 0., 1., 1.,\n",
      "        0., 1., 1., 1., 0., 1., 1., 1., 1., 1., 1., 1., 2., 1., 2., 0., 1., 1.,\n",
      "        1., 1., 1., 1., 1., 1., 1., 1., 0., 2., 2., 1., 1., 1., 1., 2., 1., 2.,\n",
      "        1., 1., 0., 1., 1., 0., 1., 1., 2., 1., 1., 1., 2., 1., 1., 1., 1., 1.,\n",
      "        0., 1., 1., 1., 1., 1., 0., 1., 1., 1., 2., 1., 1., 1., 1., 1., 1., 1.,\n",
      "        0., 1., 1., 2., 1., 1., 0., 1., 1., 0., 1., 1., 1., 1., 2., 1., 1., 1.,\n",
      "        0., 0., 1., 1., 1., 1., 1., 1., 0., 1., 1., 2., 0., 1., 1., 1., 1., 0.,\n",
      "        1., 1., 1., 1., 1., 1., 1., 1., 1., 1., 1., 1., 1., 1., 1., 2., 1., 1.,\n",
      "        1., 1., 1., 2., 1., 1., 2., 1., 1., 0., 1., 0., 1., 1., 1., 1., 0., 1.,\n",
      "        1., 1., 2., 1., 2., 1., 1., 1., 1., 1., 1., 1., 1., 1., 0., 1., 1., 1.,\n",
      "        1., 1., 0., 2., 1., 1., 1., 1., 0., 1., 1., 1., 1., 1., 1., 1., 0., 1.,\n",
      "        1., 1., 0., 1., 1., 1., 2., 1., 1., 1., 2., 0., 1., 1., 1.])\n"
     ]
    }
   ],
   "source": [
    "X_train, X_test, y_train, y_test = train_test_split(X, Y, test_size=0.2, random_state=42)\n",
    "\n",
    "X_train = torch.tensor(X_train, dtype=torch.float32)\n",
    "y_train = torch.tensor(y_train, dtype=torch.long)\n",
    "X_test = torch.tensor(X_test, dtype=torch.float32)\n",
    "y_test = torch.tensor(y_test, dtype=torch.float32)\n",
    "\n",
    "tensor_list = []\n",
    "for price in y_train:\n",
    "    if price <= 100000:\n",
    "        tensor_list.append(torch.tensor([1.0, 0.0, 0.0]))\n",
    "    elif price > 350000:\n",
    "        tensor_list.append(torch.tensor([0.0, 0.0, 1.0]))\n",
    "    else:\n",
    "        tensor_list.append(torch.tensor([0.0, 1.0, 0.0]))\n",
    "\n",
    "y_train = torch.stack(tensor_list)\n",
    "\n",
    "# tensor_list = []\n",
    "for idx, price in enumerate(y_test):\n",
    "    if price <= 100000:\n",
    "        y_test[idx] = 0\n",
    "    elif price > 350000:\n",
    "        y_test[idx] = 2\n",
    "        # tensor_list.append(torch.tensor([0.0, 0.0, 1.0]))\n",
    "    else:\n",
    "        y_test[idx] = 1\n",
    "        # tensor_list.append(torch.tensor([0.0, 1.0, 0.0]))\n",
    "\n",
    "# y_test = torch.stack(tensor_list)\n",
    "print(y_train)\n",
    "print(y_test)\n",
    "\n",
    "train_data = TensorDataset(X_train, y_train)\n",
    "test_data = TensorDataset(X_test, y_test)\n",
    "train_loader = DataLoader(train_data, batch_size=64, shuffle=False)\n",
    "test_loader = DataLoader(test_data, batch_size=64, shuffle=False)\n"
   ]
  },
  {
   "cell_type": "code",
   "execution_count": 78,
   "metadata": {},
   "outputs": [],
   "source": [
    "class PricePredictionModel(nn.Module):\n",
    "\n",
    "    def __init__(self, num_inputs):\n",
    "        super().__init__()\n",
    "        self.linear1 = nn.Linear(num_inputs, 64)\n",
    "        self.act_fn = nn.ReLU()\n",
    "        self.linear2 = nn.Linear(64, 64)\n",
    "        self.linear3 = nn.Linear(64, 128)\n",
    "        # self.linear4 = nn.Linear(128, 256)\n",
    "        # self.linear5 = nn.Linear(256, 128)\n",
    "        self.linear6 = nn.Linear(128, 64)\n",
    "        self.linear7 = nn.Linear(64, 3)\n",
    "\n",
    "    def forward(self, x):\n",
    "        # print(x.shape)\n",
    "        x = self.linear1(x)\n",
    "        x = self.act_fn(x)\n",
    "        x = self.linear2(x)\n",
    "        x = self.act_fn(x)\n",
    "        x = self.linear3(x)\n",
    "        x = self.act_fn(x)\n",
    "        # x = self.linear4(x)\n",
    "        # x = self.act_fn(x)\n",
    "        # x = self.linear5(x)\n",
    "        # x = self.act_fn(x)\n",
    "        x = self.linear6(x)\n",
    "        x = self.act_fn(x)\n",
    "        x = self.linear7(x)\n",
    "        return x\n"
   ]
  },
  {
   "cell_type": "code",
   "execution_count": 79,
   "metadata": {},
   "outputs": [],
   "source": [
    "# Inicjalizacja modelu, funkcji straty i optymizatora\n",
    "num_inputs = 27\n",
    "model = PricePredictionModel(num_inputs)\n",
    "# model.to(device)\n",
    "model.cuda()\n",
    "criterion = nn.CrossEntropyLoss()\n",
    "optimizer = optim.Adam(model.parameters(), lr=0.01)"
   ]
  },
  {
   "cell_type": "code",
   "execution_count": 84,
   "metadata": {},
   "outputs": [
    {
     "name": "stdout",
     "output_type": "stream",
     "text": [
      "Epoch [10/70], Loss: 0.3420\n",
      "Epoch [20/70], Loss: 0.3332\n",
      "Epoch [30/70], Loss: 0.3383\n",
      "Epoch [40/70], Loss: 0.2787\n",
      "Epoch [50/70], Loss: 0.2813\n",
      "Epoch [60/70], Loss: 0.3224\n",
      "Epoch [70/70], Loss: 0.2942\n"
     ]
    }
   ],
   "source": [
    "# Trening modelu\n",
    "epochs = 70\n",
    "model.train()\n",
    "for epoch in range(epochs):\n",
    "    for inputs, labels in train_loader:\n",
    "            inputs, labels = inputs.to(device), labels.to(device)\n",
    "            inputs = inputs.cuda()\n",
    "            labels = labels.cuda()\n",
    "            outputs = model(inputs)\n",
    "            # print(labels.shape)\n",
    "            # print(outputs.shape)\n",
    "            loss = criterion(outputs, labels) #.view(-1, 1)\n",
    "\n",
    "            optimizer.zero_grad()\n",
    "            loss.backward()\n",
    "            optimizer.step()\n",
    "\n",
    "    if (epoch+1) % 10 == 0:\n",
    "        print(f'Epoch [{epoch+1}/{epochs}], Loss: {loss.item():.4f}')\n",
    "\n",
    "\n"
   ]
  },
  {
   "cell_type": "code",
   "execution_count": 85,
   "metadata": {},
   "outputs": [
    {
     "name": "stdout",
     "output_type": "stream",
     "text": [
      "Accuracy of the model: 83.52%\n"
     ]
    }
   ],
   "source": [
    "\n",
    "\n",
    "model.eval() # Set model to eval mode\n",
    "true_preds, num_preds = 0., 0.\n",
    "\n",
    "with torch.no_grad(): # Deactivate gradients for the following code\n",
    "    for data_inputs, data_labels in test_loader:\n",
    "        # Determine prediction of model on dev set\n",
    "        data_inputs, data_labels = data_inputs.to(device), data_labels.to(device)\n",
    "        preds = model(data_inputs)\n",
    "        class_preds = torch.empty(len(data_labels), dtype=torch.float32, device='cuda')\n",
    "        for idx, pred in enumerate(preds):\n",
    "            class_preds[idx] = torch.argmax(pred)\n",
    "        # preds = preds.squeeze(dim=1)\n",
    "        # preds = torch.sigmoid(preds) # Sigmoid to map predictions between 0 and 1\n",
    "        pred_labels = (preds >= 0.5).long() # Binarize predictions to 0 and 1\n",
    "\n",
    "        # Keep records of predictions for the accuracy metric (true_preds=TP+TN, num_preds=TP+TN+FP+FN)\n",
    "        true_preds += (class_preds == data_labels).sum()\n",
    "        num_preds += data_labels.shape[0]\n",
    "\n",
    "acc = true_preds / num_preds\n",
    "print(f\"Accuracy of the model: {100.0*acc:4.2f}%\")"
   ]
  },
  {
   "cell_type": "code",
   "execution_count": 86,
   "metadata": {},
   "outputs": [],
   "source": [
    "model.eval()\n",
    "true_preds, num_preds = 0., 0.\n",
    "total_loss = 0\n",
    "with open('wyniki.csv', 'w') as f:\n",
    "  write = csv.writer(f)\n",
    "  with torch.no_grad():\n",
    "      \n",
    "      for data_inputs in test_loader_test:\n",
    "        # Determine prediction of model on dev set\n",
    "        data_inputs = data_inputs.to(device)\n",
    "        preds = model(data_inputs)\n",
    "        class_preds = torch.empty(len(data_inputs), dtype=torch.float32, device='cuda')\n",
    "        for idx, pred in enumerate(preds):\n",
    "            class_preds[idx] = torch.argmax(pred)  \n",
    "            write.writerow([int(class_preds[idx].item())])"
   ]
  }
 ],
 "metadata": {
  "kernelspec": {
   "display_name": "Python 3",
   "language": "python",
   "name": "python3"
  },
  "language_info": {
   "codemirror_mode": {
    "name": "ipython",
    "version": 3
   },
   "file_extension": ".py",
   "mimetype": "text/x-python",
   "name": "python",
   "nbconvert_exporter": "python",
   "pygments_lexer": "ipython3",
   "version": "3.10.12"
  }
 },
 "nbformat": 4,
 "nbformat_minor": 2
}
