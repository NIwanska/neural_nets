{
 "cells": [
  {
   "cell_type": "code",
   "execution_count": 10,
   "metadata": {},
   "outputs": [],
   "source": [
    "import torch\n",
    "from torch import nn, optim\n",
    "import pandas as pd\n",
    "from sklearn.model_selection import train_test_split\n",
    "from torch.utils.data import DataLoader, TensorDataset\n",
    "import csv"
   ]
  },
  {
   "cell_type": "code",
   "execution_count": 11,
   "metadata": {},
   "outputs": [
    {
     "name": "stdout",
     "output_type": "stream",
     "text": [
      "[[ 0.  0.  1. ...  5.  6.  9.]\n",
      " [ 1.  0.  0. ...  3. 12.  4.]\n",
      " [ 1.  0.  0. ...  3. 12.  4.]\n",
      " ...\n",
      " [ 0.  0.  1. ... 10.  9. 10.]\n",
      " [ 1.  0.  0. ...  3.  7. 11.]\n",
      " [ 0.  0.  1. ... 10.  9. 10.]]\n",
      "[141592  51327  48672 ... 357522 312389 393805]\n",
      "(4124, 33)\n",
      "(4124,)\n"
     ]
    }
   ],
   "source": [
    "device = torch.device(\"cuda\")\n",
    "data = pd.read_csv('train_data.csv')\n",
    "data_dropped = data.drop(columns=['HallwayType','HeatingType','AptManageType','SubwayStation', 'TimeToBusStop', 'TimeToSubway'])\n",
    "pd_HallwayTypepd = pd.get_dummies(data['HallwayType'],  dtype=float)\n",
    "pd_HeatingType = pd.get_dummies(data['HeatingType'],  dtype=float)\n",
    "pd_AptManageType = pd.get_dummies(data['AptManageType'],  dtype=float)\n",
    "pd_SubwayStation = pd.get_dummies(data['SubwayStation'],  dtype=float)\n",
    "pd_TimeToSubway = pd.get_dummies(data['TimeToSubway'],  dtype=float)\n",
    "pd_TimeToBusStop = pd.get_dummies(data['TimeToBusStop'],  dtype=float)\n",
    "data_encoded = pd.concat([pd_HallwayTypepd,pd_HeatingType ,pd_AptManageType,pd_SubwayStation,pd_TimeToSubway,pd_TimeToBusStop , data_dropped], axis=1, join='outer')\n",
    "X = data_encoded.drop(columns=['SalePrice']).values\n",
    "Y = data_encoded['SalePrice'].values"
   ]
  },
  {
   "cell_type": "code",
   "execution_count": 12,
   "metadata": {},
   "outputs": [
    {
     "name": "stdout",
     "output_type": "stream",
     "text": [
      "tensor([[ 0.,  1.,  0.,  ...,  4., 14., 17.],\n",
      "        [ 0.,  0.,  1.,  ...,  9., 14., 17.],\n",
      "        [ 0.,  0.,  1.,  ...,  5.,  9.,  5.],\n",
      "        ...,\n",
      "        [ 0.,  1.,  0.,  ...,  4., 14., 17.],\n",
      "        [ 0.,  0.,  1.,  ...,  8.,  7.,  9.],\n",
      "        [ 0.,  1.,  0.,  ...,  4., 14., 17.]])\n"
     ]
    }
   ],
   "source": [
    "test_data = pd.read_csv('test_data.csv')\n",
    "test_data_dropped = test_data.drop(columns=['HallwayType','HeatingType','AptManageType','SubwayStation', 'TimeToBusStop', 'TimeToSubway'])\n",
    "pd_HallwayTypepd = pd.get_dummies(test_data['HallwayType'],  dtype=float)\n",
    "pd_HeatingType = pd.get_dummies(test_data['HeatingType'],  dtype=float)\n",
    "pd_AptManageType = pd.get_dummies(test_data['AptManageType'],  dtype=float)\n",
    "pd_SubwayStation = pd.get_dummies(test_data['SubwayStation'],  dtype=float)\n",
    "pd_TimeToSubway = pd.get_dummies(test_data['TimeToSubway'],  dtype=float)\n",
    "pd_TimeToBusStop = pd.get_dummies(test_data['TimeToBusStop'],  dtype=float)\n",
    "test_data_encoded = pd.concat([pd_HallwayTypepd,pd_HeatingType ,pd_AptManageType,pd_SubwayStation,pd_TimeToSubway,pd_TimeToBusStop , test_data_dropped], axis=1, join='outer')\n",
    "\n",
    "test_data = test_data_encoded.astype('float32')\n",
    "test_data = torch.from_numpy(test_data.values[:,:])"
   ]
  },
  {
   "cell_type": "code",
   "execution_count": 13,
   "metadata": {},
   "outputs": [
    {
     "name": "stdout",
     "output_type": "stream",
     "text": [
      "tensor([[0., 1., 0.],\n",
      "        [0., 1., 0.],\n",
      "        [0., 1., 0.],\n",
      "        ...,\n",
      "        [0., 1., 0.],\n",
      "        [0., 0., 1.],\n",
      "        [1., 0., 0.]])\n",
      "tensor([2., 1., 2., 2., 2., 2., 1., 0., 1., 1., 1., 2., 0., 2., 1., 1., 2., 1.,\n",
      "        1., 1., 1., 1., 0., 1., 1., 2., 0., 1., 0., 1., 1., 1., 2., 2., 1., 1.,\n",
      "        1., 1., 0., 1., 1., 1., 2., 1., 1., 1., 1., 1., 1., 0., 1., 1., 1., 2.,\n",
      "        1., 2., 0., 1., 1., 1., 1., 1., 1., 1., 1., 0., 1., 1., 2., 1., 1., 1.,\n",
      "        1., 1., 2., 0., 2., 1., 1., 1., 1., 1., 1., 1., 1., 1., 1., 1., 0., 1.,\n",
      "        1., 1., 1., 1., 1., 2., 2., 0., 1., 0., 1., 1., 1., 1., 1., 1., 1., 2.,\n",
      "        0., 1., 0., 1., 2., 1., 1., 1., 1., 1., 0., 1., 1., 1., 0., 2., 1., 2.,\n",
      "        0., 0., 1., 1., 1., 1., 1., 1., 0., 1., 1., 1., 2., 2., 1., 1., 1., 0.,\n",
      "        1., 0., 1., 0., 0., 1., 0., 1., 2., 1., 1., 1., 1., 1., 1., 1., 0., 1.,\n",
      "        1., 1., 1., 1., 0., 2., 0., 1., 1., 2., 1., 2., 1., 0., 1., 1., 1., 1.,\n",
      "        2., 1., 1., 2., 1., 1., 0., 1., 0., 0., 1., 1., 1., 1., 1., 1., 1., 1.,\n",
      "        1., 0., 1., 0., 1., 1., 2., 1., 1., 1., 1., 1., 1., 1., 2., 1., 1., 1.,\n",
      "        2., 1., 1., 1., 1., 1., 1., 1., 1., 1., 1., 2., 1., 0., 2., 1., 1., 1.,\n",
      "        1., 1., 1., 1., 1., 1., 0., 1., 1., 0., 1., 1., 0., 2., 1., 1., 1., 2.,\n",
      "        1., 1., 1., 2., 2., 1., 1., 1., 2., 1., 1., 1., 2., 1., 0., 1., 1., 1.,\n",
      "        1., 1., 1., 1., 1., 1., 0., 1., 2., 1., 2., 2., 1., 1., 1., 1., 1., 1.,\n",
      "        1., 1., 2., 2., 1., 2., 1., 1., 1., 1., 0., 1., 2., 1., 1., 1., 2., 1.,\n",
      "        1., 1., 1., 1., 1., 1., 0., 1., 1., 2., 2., 1., 1., 1., 1., 1., 1., 1.,\n",
      "        1., 1., 2., 1., 1., 1., 1., 1., 0., 1., 1., 2., 1., 1., 1., 1., 1., 0.,\n",
      "        1., 1., 1., 1., 1., 1., 1., 1., 1., 0., 1., 1., 0., 0., 1., 1., 0., 1.,\n",
      "        1., 1., 2., 1., 1., 1., 0., 1., 1., 1., 1., 1., 0., 1., 0., 1., 1., 1.,\n",
      "        1., 1., 1., 0., 1., 1., 1., 0., 0., 0., 0., 1., 1., 1., 1., 1., 1., 2.,\n",
      "        1., 1., 1., 0., 2., 0., 1., 1., 1., 1., 1., 1., 1., 0., 1., 1., 1., 0.,\n",
      "        1., 2., 2., 1., 1., 0., 1., 1., 2., 1., 1., 0., 1., 1., 1., 1., 1., 2.,\n",
      "        2., 1., 1., 1., 1., 1., 1., 1., 2., 1., 0., 1., 0., 2., 1., 2., 1., 0.,\n",
      "        1., 0., 1., 1., 0., 1., 1., 2., 1., 2., 0., 1., 0., 1., 1., 1., 0., 1.,\n",
      "        0., 0., 2., 2., 1., 1., 0., 1., 0., 1., 1., 1., 1., 1., 1., 1., 1., 1.,\n",
      "        1., 0., 0., 1., 1., 1., 1., 1., 0., 1., 1., 2., 0., 1., 0., 1., 2., 1.,\n",
      "        1., 1., 2., 1., 2., 1., 0., 1., 2., 1., 1., 1., 2., 1., 1., 1., 1., 1.,\n",
      "        0., 1., 1., 1., 2., 1., 1., 1., 1., 0., 0., 1., 1., 0., 1., 1., 1., 1.,\n",
      "        2., 0., 1., 1., 0., 2., 1., 1., 2., 1., 1., 2., 1., 1., 1., 1., 0., 1.,\n",
      "        1., 1., 1., 1., 2., 1., 1., 2., 1., 2., 1., 1., 1., 0., 1., 1., 1., 1.,\n",
      "        0., 1., 1., 0., 1., 1., 1., 0., 1., 1., 1., 2., 1., 1., 1., 1., 1., 1.,\n",
      "        1., 2., 1., 1., 0., 2., 1., 1., 1., 1., 1., 0., 0., 1., 1., 1., 2., 1.,\n",
      "        0., 1., 2., 1., 1., 1., 1., 1., 1., 1., 1., 0., 1., 0., 1., 0., 1., 1.,\n",
      "        0., 1., 1., 1., 0., 1., 1., 1., 1., 1., 1., 1., 2., 1., 2., 0., 1., 1.,\n",
      "        1., 1., 1., 1., 1., 1., 1., 1., 0., 2., 2., 1., 1., 1., 1., 2., 1., 2.,\n",
      "        1., 1., 0., 1., 1., 0., 1., 1., 2., 1., 1., 1., 2., 1., 1., 1., 1., 1.,\n",
      "        0., 1., 1., 1., 1., 1., 0., 1., 1., 1., 2., 1., 1., 1., 1., 1., 1., 1.,\n",
      "        0., 1., 1., 2., 1., 1., 0., 1., 1., 0., 1., 1., 1., 1., 2., 1., 1., 1.,\n",
      "        0., 0., 1., 1., 1., 1., 1., 1., 0., 1., 1., 2., 0., 1., 1., 1., 1., 0.,\n",
      "        1., 1., 1., 1., 1., 1., 1., 1., 1., 1., 1., 1., 1., 1., 1., 2., 1., 1.,\n",
      "        1., 1., 1., 2., 1., 1., 2., 1., 1., 0., 1., 0., 1., 1., 1., 1., 0., 1.,\n",
      "        1., 1., 2., 1., 2., 1., 1., 1., 1., 1., 1., 1., 1., 1., 0., 1., 1., 1.,\n",
      "        1., 1., 0., 2., 1., 1., 1., 1., 0., 1., 1., 1., 1., 1., 1., 1., 0., 1.,\n",
      "        1., 1., 0., 1., 1., 1., 2., 1., 1., 1., 2., 0., 1., 1., 1.])\n"
     ]
    }
   ],
   "source": [
    "X_train, X_test, y_train, y_test = train_test_split(X, Y, test_size=0.2, random_state=42)\n",
    "\n",
    "X_train = torch.tensor(X_train, dtype=torch.float32)\n",
    "y_train = torch.tensor(y_train, dtype=torch.long)\n",
    "X_test = torch.tensor(X_test, dtype=torch.float32)\n",
    "y_test = torch.tensor(y_test, dtype=torch.float32)\n",
    "\n",
    "tensor_list = []\n",
    "for price in y_train:\n",
    "    if price <= 100000:\n",
    "        tensor_list.append(torch.tensor([1.0, 0.0, 0.0]))\n",
    "    elif price > 350000:\n",
    "        tensor_list.append(torch.tensor([0.0, 0.0, 1.0]))\n",
    "    else:\n",
    "        tensor_list.append(torch.tensor([0.0, 1.0, 0.0]))\n",
    "\n",
    "y_train = torch.stack(tensor_list)\n",
    "\n",
    "\n",
    "for idx, price in enumerate(y_test):\n",
    "    if price <= 100000:\n",
    "        y_test[idx] = 0\n",
    "    elif price > 350000:\n",
    "        y_test[idx] = 2\n",
    "    else:\n",
    "        y_test[idx] = 1\n",
    "\n",
    "\n",
    "train_data = TensorDataset(X_train, y_train)\n",
    "test_data = TensorDataset(X_test, y_test)\n",
    "train_loader = DataLoader(train_data, batch_size=64, shuffle=True)\n",
    "test_loader = DataLoader(test_data, batch_size=64, shuffle=True)\n"
   ]
  },
  {
   "cell_type": "code",
   "execution_count": 14,
   "metadata": {},
   "outputs": [],
   "source": [
    "class PricePredictionModel(nn.Module):\n",
    "\n",
    "    def __init__(self, num_inputs):\n",
    "        super().__init__()\n",
    "        self.linear1 = nn.Linear(num_inputs, 64)\n",
    "        self.act_fn = nn.ReLU()\n",
    "        self.linear2 = nn.Linear(64, 64)\n",
    "        self.linear3 = nn.Linear(64, 128)\n",
    "        self.linear6 = nn.Linear(128, 64)\n",
    "        self.linear7 = nn.Linear(64, 3)\n",
    "\n",
    "    def forward(self, x):\n",
    "        x = self.linear1(x)\n",
    "        x = self.act_fn(x)\n",
    "        x = self.linear2(x)\n",
    "        x = self.act_fn(x)\n",
    "        x = self.linear3(x)\n",
    "        x = self.act_fn(x)\n",
    "        x = self.linear6(x)\n",
    "        x = self.act_fn(x)\n",
    "        x = self.linear7(x)\n",
    "        return x\n"
   ]
  },
  {
   "cell_type": "code",
   "execution_count": 15,
   "metadata": {},
   "outputs": [],
   "source": [
    "# Inicjalizacja modelu, funkcji straty i optymizatora\n",
    "num_inputs = 33\n",
    "model = PricePredictionModel(num_inputs)\n",
    "model.cuda()\n",
    "criterion = nn.CrossEntropyLoss()\n",
    "optimizer = optim.Adam(model.parameters(), lr=0.01)"
   ]
  },
  {
   "cell_type": "code",
   "execution_count": 16,
   "metadata": {},
   "outputs": [
    {
     "name": "stdout",
     "output_type": "stream",
     "text": [
      "Epoch [10/100], Loss: 0.3091\n",
      "Epoch [20/100], Loss: 0.2170\n",
      "Epoch [30/100], Loss: 0.2068\n",
      "Epoch [40/100], Loss: 0.3155\n",
      "Epoch [50/100], Loss: 0.3107\n",
      "Epoch [60/100], Loss: 0.5449\n",
      "Epoch [70/100], Loss: 0.5981\n",
      "Epoch [80/100], Loss: 0.2535\n",
      "Epoch [90/100], Loss: 0.4366\n",
      "Epoch [100/100], Loss: 0.5023\n"
     ]
    }
   ],
   "source": [
    "# Trening modelu\n",
    "epochs = 100\n",
    "model.train()\n",
    "for epoch in range(epochs):\n",
    "    for inputs, labels in train_loader:\n",
    "            inputs = inputs.cuda()\n",
    "            labels = labels.cuda()\n",
    "            outputs = model(inputs)\n",
    "            loss = criterion(outputs, labels)\n",
    "\n",
    "            optimizer.zero_grad()\n",
    "            loss.backward()\n",
    "            optimizer.step()\n",
    "\n",
    "    if (epoch+1) % 10 == 0:\n",
    "        print(f'Epoch [{epoch+1}/{epochs}], Loss: {loss.item():.4f}')\n",
    "\n",
    "\n"
   ]
  },
  {
   "cell_type": "code",
   "execution_count": 17,
   "metadata": {},
   "outputs": [
    {
     "name": "stdout",
     "output_type": "stream",
     "text": [
      "Accuracy of the model: 84.12%\n"
     ]
    }
   ],
   "source": [
    "model.eval()\n",
    "true_preds, num_preds = 0., 0.\n",
    "\n",
    "with torch.no_grad():\n",
    "    for data_inputs, data_labels in test_loader:\n",
    "\n",
    "        data_inputs, data_labels = data_inputs.to(device), data_labels.to(device)\n",
    "        preds = model(data_inputs)\n",
    "        class_preds = torch.empty(len(data_labels), dtype=torch.float32, device='cuda')\n",
    "        for idx, pred in enumerate(preds):\n",
    "            class_preds[idx] = torch.argmax(pred)\n",
    "\n",
    "        pred_labels = (preds >= 0.5).long() \n",
    "\n",
    "        true_preds += (class_preds == data_labels).sum()\n",
    "        num_preds += data_labels.shape[0]\n",
    "\n",
    "acc = true_preds / num_preds\n",
    "print(f\"Accuracy of the model: {100.0*acc:4.2f}%\")"
   ]
  }
 ],
 "metadata": {
  "kernelspec": {
   "display_name": "Python 3",
   "language": "python",
   "name": "python3"
  },
  "language_info": {
   "codemirror_mode": {
    "name": "ipython",
    "version": 3
   },
   "file_extension": ".py",
   "mimetype": "text/x-python",
   "name": "python",
   "nbconvert_exporter": "python",
   "pygments_lexer": "ipython3",
   "version": "3.10.12"
  }
 },
 "nbformat": 4,
 "nbformat_minor": 2
}
