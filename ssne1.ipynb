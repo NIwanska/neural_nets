{
 "cells": [
  {
   "cell_type": "code",
   "execution_count": 15,
   "metadata": {
    "id": "ReIxVb7rAnOo"
   },
   "outputs": [],
   "source": [
    "import torch\n",
    "from torch import nn, optim\n",
    "import pandas as pd\n",
    "from sklearn.model_selection import train_test_split\n",
    "from torch.utils.data import DataLoader, TensorDataset\n",
    "import csv"
   ]
  },
  {
   "cell_type": "code",
   "execution_count": 16,
   "metadata": {
    "id": "rRJI53XPAuC_"
   },
   "outputs": [],
   "source": [
    "\n",
    "device = torch.device(\"cuda\")\n",
    "\n",
    "data = pd.read_csv('data.csv')\n",
    "data = data.drop(columns=['dteday', 'instant', 'casual', 'registered'])\n",
    "X = data.drop(columns=['cnt']).values\n",
    "Y = data['cnt'].values\n",
    "\n",
    "test_data = pd.read_csv('evaluation_data.csv')\n",
    "test_data = test_data.drop(columns=['dteday'])\n",
    "test_data = test_data.astype('float32')\n",
    "test_data = torch.from_numpy(test_data.values[:,:])\n",
    "\n",
    "\n",
    "X_train, X_test, y_train, y_test = train_test_split(X, Y, test_size=0.2, random_state=42)\n",
    "\n",
    "X_train = torch.tensor(X_train, dtype=torch.float32)\n",
    "y_train = torch.tensor(y_train, dtype=torch.float32)\n",
    "X_test = torch.tensor(X_test, dtype=torch.float32)\n",
    "y_test = torch.tensor(y_test, dtype=torch.float32)\n",
    "\n",
    "train_data = TensorDataset(X_train, y_train)\n",
    "train_loader = DataLoader(train_data, batch_size=64, shuffle=True)"
   ]
  },
  {
   "cell_type": "code",
   "execution_count": 28,
   "metadata": {
    "id": "nfUeRghLAwVZ"
   },
   "outputs": [],
   "source": [
    "class LinearRegressionModel(nn.Module):\n",
    "\n",
    "    def __init__(self, num_inputs):\n",
    "        super().__init__()\n",
    "        self.linear1 = nn.Linear(num_inputs, 64)\n",
    "        self.act_fn = nn.ReLU()\n",
    "        self.linear2 = nn.Linear(64, 64)\n",
    "        self.linear3 = nn.Linear(64, 128)\n",
    "        self.linear4 = nn.Linear(128, 256)\n",
    "        self.linear5 = nn.Linear(256, 128)\n",
    "        self.linear6 = nn.Linear(128, 64)\n",
    "        self.linear7 = nn.Linear(64, 1)\n",
    "\n",
    "    def forward(self, x):\n",
    "        x = self.linear1(x)\n",
    "        x = self.act_fn(x)\n",
    "        x = self.linear2(x)\n",
    "        x = self.act_fn(x)\n",
    "        x = self.linear3(x)\n",
    "        x = self.act_fn(x)\n",
    "        x = self.linear4(x)\n",
    "        x = self.act_fn(x)\n",
    "        x = self.linear5(x)\n",
    "        x = self.act_fn(x)\n",
    "        x = self.linear6(x)\n",
    "        x = self.act_fn(x)\n",
    "        x = self.linear7(x)\n",
    "        return x\n"
   ]
  },
  {
   "cell_type": "code",
   "execution_count": 29,
   "metadata": {
    "id": "vsZIN0xvAyTj"
   },
   "outputs": [],
   "source": [
    "\n",
    "input_size = 12\n",
    "\n",
    "model = LinearRegressionModel(input_size)\n",
    "model.to(device)\n",
    "\n",
    "criterion = nn.MSELoss()\n",
    "optimizer = optim.Adam(model.parameters(), lr=0.01)"
   ]
  },
  {
   "cell_type": "code",
   "execution_count": 30,
   "metadata": {
    "colab": {
     "base_uri": "https://localhost:8080/"
    },
    "executionInfo": {
     "elapsed": 85034,
     "status": "ok",
     "timestamp": 1710118906097,
     "user": {
      "displayName": "Natalia Iwańska",
      "userId": "12621041665092632232"
     },
     "user_tz": -60
    },
    "id": "PBLbyenCA0h2",
    "outputId": "49c0d269-a2dd-47db-e073-0cd5fb0ed7a9"
   },
   "outputs": [
    {
     "name": "stdout",
     "output_type": "stream",
     "text": [
      "Epoch [10/100], Loss: 5762.7871\n",
      "Epoch [20/100], Loss: 10236.0811\n",
      "Epoch [30/100], Loss: 10705.1582\n",
      "Epoch [40/100], Loss: 144.4869\n",
      "Epoch [50/100], Loss: 20876.3125\n",
      "Epoch [60/100], Loss: 4489.8960\n",
      "Epoch [70/100], Loss: 179.3242\n",
      "Epoch [80/100], Loss: 3451.3118\n",
      "Epoch [90/100], Loss: 334.4689\n",
      "Epoch [100/100], Loss: 227.3062\n"
     ]
    }
   ],
   "source": [
    "\n",
    "# Trenowanie modelu\n",
    "num_epochs = 100\n",
    "for epoch in range(num_epochs):\n",
    "    for inputs, labels in train_loader:\n",
    "        inputs, labels = inputs.to(device), labels.to(device)\n",
    "\n",
    "        outputs = model(inputs)\n",
    "        loss = criterion(outputs, labels.view(-1, 1))\n",
    "\n",
    "        optimizer.zero_grad()\n",
    "        loss.backward()\n",
    "        optimizer.step()\n",
    "\n",
    "    if (epoch+1) % 10 == 0:\n",
    "        print(f'Epoch [{epoch+1}/{num_epochs}], Loss: {loss.item():.4f}')\n"
   ]
  },
  {
   "cell_type": "code",
   "execution_count": 20,
   "metadata": {
    "colab": {
     "base_uri": "https://localhost:8080/"
    },
    "executionInfo": {
     "elapsed": 9,
     "status": "ok",
     "timestamp": 1710118906097,
     "user": {
      "displayName": "Natalia Iwańska",
      "userId": "12621041665092632232"
     },
     "user_tz": -60
    },
    "id": "-3Q_oL4ZA19H",
    "outputId": "64608d94-dea4-4d7a-c40c-20884e37fe36"
   },
   "outputs": [
    {
     "name": "stdout",
     "output_type": "stream",
     "text": [
      "Final Test Loss: 2560.3013\n"
     ]
    }
   ],
   "source": [
    "# Ocena modelu na zbiorze testowym\n",
    "with torch.no_grad():\n",
    "    model.eval()\n",
    "    X_test, y_test = X_test.to(device), y_test.to(device)\n",
    "    y_pred = model(X_test)\n",
    "    test_loss = criterion(y_pred, y_test.view(-1, 1))\n",
    "    print(f'Final Test Loss: {test_loss.item():.4f}')"
   ]
  },
  {
   "cell_type": "code",
   "execution_count": 14,
   "metadata": {
    "id": "R-Lo7M9TA3ZF"
   },
   "outputs": [],
   "source": [
    "\n",
    "model.eval()\n",
    "true_preds, num_preds = 0., 0.\n",
    "total_loss = 0\n",
    "with open('wyniki.csv', 'w') as f:\n",
    "  write = csv.writer(f)\n",
    "  with torch.no_grad():\n",
    "      for data_inputs in test_data:\n",
    "          data_inputs = data_inputs.to(device)\n",
    "          preds = model(data_inputs)\n",
    "          write.writerow([preds.item()])"
   ]
  },
  {
   "cell_type": "code",
   "execution_count": null,
   "metadata": {},
   "outputs": [],
   "source": []
  },
  {
   "cell_type": "code",
   "execution_count": null,
   "metadata": {},
   "outputs": [],
   "source": []
  }
 ],
 "metadata": {
  "accelerator": "GPU",
  "colab": {
   "authorship_tag": "ABX9TyNHo0RYorjhLstfTiHBnbgq",
   "gpuType": "T4",
   "provenance": []
  },
  "kernelspec": {
   "display_name": "Python 3 (ipykernel)",
   "language": "python",
   "name": "python3"
  },
  "language_info": {
   "codemirror_mode": {
    "name": "ipython",
    "version": 3
   },
   "file_extension": ".py",
   "mimetype": "text/x-python",
   "name": "python",
   "nbconvert_exporter": "python",
   "pygments_lexer": "ipython3",
   "version": "3.10.12"
  }
 },
 "nbformat": 4,
 "nbformat_minor": 4
}
